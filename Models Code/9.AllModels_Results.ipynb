{
 "cells": [
  {
   "cell_type": "markdown",
   "metadata": {},
   "source": [
    "#### All modalitiles (GPT 2 + Wav2Vec + ViT ) 12 features QCNN"
   ]
  },
  {
   "cell_type": "code",
   "execution_count": null,
   "metadata": {},
   "outputs": [],
   "source": [
    "from qiskit_machine_learning.algorithms.classifiers import NeuralNetworkClassifier\n",
    "cla = NeuralNetworkClassifier.load('allmodel.model')"
   ]
  },
  {
   "cell_type": "code",
   "execution_count": 1,
   "metadata": {},
   "outputs": [],
   "source": [
    "import pandas as pd\n",
    "train= pd.read_csv(\"AllTrain.csv\")\n",
    "test = pd.read_csv(\"AllTest.csv\")"
   ]
  },
  {
   "cell_type": "code",
   "execution_count": 2,
   "metadata": {},
   "outputs": [],
   "source": [
    "from umap import UMAP\n",
    "umap_fit = UMAP(n_components=12,n_neighbors=24,random_state=0)"
   ]
  },
  {
   "cell_type": "code",
   "execution_count": 3,
   "metadata": {},
   "outputs": [
    {
     "name": "stderr",
     "output_type": "stream",
     "text": [
      "c:\\Users\\harip\\anaconda3\\Lib\\site-packages\\umap\\umap_.py:1945: UserWarning: n_jobs value 1 overridden to 1 by setting random_state. Use no seed for parallelism.\n",
      "  warn(f\"n_jobs value {self.n_jobs} overridden to 1 by setting random_state. Use no seed for parallelism.\")\n"
     ]
    }
   ],
   "source": [
    "tr = umap_fit.fit_transform(train.drop(['Labels','y'],axis=1))\n",
    "te = umap_fit.transform(test.drop(['Labels','y'],axis=1))"
   ]
  },
  {
   "cell_type": "markdown",
   "metadata": {},
   "source": [
    "#### Results of QCNN with 12 features as shown in table 1"
   ]
  },
  {
   "cell_type": "code",
   "execution_count": null,
   "metadata": {},
   "outputs": [
    {
     "name": "stdout",
     "output_type": "stream",
     "text": [
      "0.7540849673202614\n",
      "0.7068403908794788\n"
     ]
    }
   ],
   "source": [
    "print(cla.score(tr, np.array(train['y'])))\n",
    "print(cla.score(te, np.array(test['y'])))"
   ]
  },
  {
   "cell_type": "code",
   "execution_count": null,
   "metadata": {},
   "outputs": [
    {
     "data": {
      "text/plain": [
       "(0.7068403908794788, 0.7068403908794788, 0.7068403908794788, None)"
      ]
     },
     "metadata": {},
     "output_type": "display_data"
    }
   ],
   "source": [
    "pred = cla.predict(te)\n",
    "from sklearn.metrics import precision_recall_fscore_support, f1_score, precision_score, recall_score\n",
    "precision_recall_fscore_support( np.array(test['y']), pred,average='micro')"
   ]
  },
  {
   "cell_type": "code",
   "execution_count": null,
   "metadata": {},
   "outputs": [
    {
     "name": "stdout",
     "output_type": "stream",
     "text": [
      "Precision: 0.7412587412587412 Recall 0.6666666666666666 F1: 0.7019867549668874\n"
     ]
    }
   ],
   "source": [
    "print(\"Precision:\",precision_score(np.array(test['y']), pred),\"Recall\",recall_score(np.array(test['y']), pred),\"F1:\",f1_score(np.array(test['y']), pred))"
   ]
  },
  {
   "cell_type": "code",
   "execution_count": null,
   "metadata": {},
   "outputs": [
    {
     "name": "stdout",
     "output_type": "stream",
     "text": [
      "              precision    recall  f1-score   support\n",
      "\n",
      "          -1       0.68      0.75      0.71       148\n",
      "           1       0.74      0.67      0.70       159\n",
      "\n",
      "    accuracy                           0.71       307\n",
      "   macro avg       0.71      0.71      0.71       307\n",
      "weighted avg       0.71      0.71      0.71       307\n",
      "\n"
     ]
    }
   ],
   "source": [
    "print(classification_report(test['y'],pred))"
   ]
  },
  {
   "cell_type": "markdown",
   "metadata": {},
   "source": [
    "#### All modalitiles (GPT 2 + Wav2Vec + ViT ) 12 features - Random Forest Classifier"
   ]
  },
  {
   "cell_type": "code",
   "execution_count": null,
   "metadata": {},
   "outputs": [
    {
     "data": {
      "text/html": [
       "<style>#sk-container-id-4 {color: black;background-color: white;}#sk-container-id-4 pre{padding: 0;}#sk-container-id-4 div.sk-toggleable {background-color: white;}#sk-container-id-4 label.sk-toggleable__label {cursor: pointer;display: block;width: 100%;margin-bottom: 0;padding: 0.3em;box-sizing: border-box;text-align: center;}#sk-container-id-4 label.sk-toggleable__label-arrow:before {content: \"▸\";float: left;margin-right: 0.25em;color: #696969;}#sk-container-id-4 label.sk-toggleable__label-arrow:hover:before {color: black;}#sk-container-id-4 div.sk-estimator:hover label.sk-toggleable__label-arrow:before {color: black;}#sk-container-id-4 div.sk-toggleable__content {max-height: 0;max-width: 0;overflow: hidden;text-align: left;background-color: #f0f8ff;}#sk-container-id-4 div.sk-toggleable__content pre {margin: 0.2em;color: black;border-radius: 0.25em;background-color: #f0f8ff;}#sk-container-id-4 input.sk-toggleable__control:checked~div.sk-toggleable__content {max-height: 200px;max-width: 100%;overflow: auto;}#sk-container-id-4 input.sk-toggleable__control:checked~label.sk-toggleable__label-arrow:before {content: \"▾\";}#sk-container-id-4 div.sk-estimator input.sk-toggleable__control:checked~label.sk-toggleable__label {background-color: #d4ebff;}#sk-container-id-4 div.sk-label input.sk-toggleable__control:checked~label.sk-toggleable__label {background-color: #d4ebff;}#sk-container-id-4 input.sk-hidden--visually {border: 0;clip: rect(1px 1px 1px 1px);clip: rect(1px, 1px, 1px, 1px);height: 1px;margin: -1px;overflow: hidden;padding: 0;position: absolute;width: 1px;}#sk-container-id-4 div.sk-estimator {font-family: monospace;background-color: #f0f8ff;border: 1px dotted black;border-radius: 0.25em;box-sizing: border-box;margin-bottom: 0.5em;}#sk-container-id-4 div.sk-estimator:hover {background-color: #d4ebff;}#sk-container-id-4 div.sk-parallel-item::after {content: \"\";width: 100%;border-bottom: 1px solid gray;flex-grow: 1;}#sk-container-id-4 div.sk-label:hover label.sk-toggleable__label {background-color: #d4ebff;}#sk-container-id-4 div.sk-serial::before {content: \"\";position: absolute;border-left: 1px solid gray;box-sizing: border-box;top: 0;bottom: 0;left: 50%;z-index: 0;}#sk-container-id-4 div.sk-serial {display: flex;flex-direction: column;align-items: center;background-color: white;padding-right: 0.2em;padding-left: 0.2em;position: relative;}#sk-container-id-4 div.sk-item {position: relative;z-index: 1;}#sk-container-id-4 div.sk-parallel {display: flex;align-items: stretch;justify-content: center;background-color: white;position: relative;}#sk-container-id-4 div.sk-item::before, #sk-container-id-4 div.sk-parallel-item::before {content: \"\";position: absolute;border-left: 1px solid gray;box-sizing: border-box;top: 0;bottom: 0;left: 50%;z-index: -1;}#sk-container-id-4 div.sk-parallel-item {display: flex;flex-direction: column;z-index: 1;position: relative;background-color: white;}#sk-container-id-4 div.sk-parallel-item:first-child::after {align-self: flex-end;width: 50%;}#sk-container-id-4 div.sk-parallel-item:last-child::after {align-self: flex-start;width: 50%;}#sk-container-id-4 div.sk-parallel-item:only-child::after {width: 0;}#sk-container-id-4 div.sk-dashed-wrapped {border: 1px dashed gray;margin: 0 0.4em 0.5em 0.4em;box-sizing: border-box;padding-bottom: 0.4em;background-color: white;}#sk-container-id-4 div.sk-label label {font-family: monospace;font-weight: bold;display: inline-block;line-height: 1.2em;}#sk-container-id-4 div.sk-label-container {text-align: center;}#sk-container-id-4 div.sk-container {/* jupyter's `normalize.less` sets `[hidden] { display: none; }` but bootstrap.min.css set `[hidden] { display: none !important; }` so we also need the `!important` here to be able to override the default hidden behavior on the sphinx rendered scikit-learn.org. See: https://github.com/scikit-learn/scikit-learn/issues/21755 */display: inline-block !important;position: relative;}#sk-container-id-4 div.sk-text-repr-fallback {display: none;}</style><div id=\"sk-container-id-4\" class=\"sk-top-container\"><div class=\"sk-text-repr-fallback\"><pre>RandomForestClassifier()</pre><b>In a Jupyter environment, please rerun this cell to show the HTML representation or trust the notebook. <br />On GitHub, the HTML representation is unable to render, please try loading this page with nbviewer.org.</b></div><div class=\"sk-container\" hidden><div class=\"sk-item\"><div class=\"sk-estimator sk-toggleable\"><input class=\"sk-toggleable__control sk-hidden--visually\" id=\"sk-estimator-id-4\" type=\"checkbox\" checked><label for=\"sk-estimator-id-4\" class=\"sk-toggleable__label sk-toggleable__label-arrow\">RandomForestClassifier</label><div class=\"sk-toggleable__content\"><pre>RandomForestClassifier()</pre></div></div></div></div></div>"
      ],
      "text/plain": [
       "RandomForestClassifier()"
      ]
     },
     "metadata": {},
     "output_type": "display_data"
    }
   ],
   "source": [
    "from sklearn.ensemble import RandomForestClassifier\n",
    "rf = RandomForestClassifier()\n",
    "rf.fit(tr,train['y'])"
   ]
  },
  {
   "cell_type": "code",
   "execution_count": null,
   "metadata": {},
   "outputs": [],
   "source": [
    "pred = rf.predict(te)"
   ]
  },
  {
   "cell_type": "markdown",
   "metadata": {},
   "source": [
    "#### Results of Random Forest Classifier with 12 features as shown in table 2"
   ]
  },
  {
   "cell_type": "code",
   "execution_count": null,
   "metadata": {},
   "outputs": [
    {
     "name": "stdout",
     "output_type": "stream",
     "text": [
      "              precision    recall  f1-score   support\n",
      "\n",
      "          -1       0.66      0.70      0.68       148\n",
      "           1       0.70      0.66      0.68       159\n",
      "\n",
      "    accuracy                           0.68       307\n",
      "   macro avg       0.68      0.68      0.68       307\n",
      "weighted avg       0.68      0.68      0.68       307\n",
      "\n"
     ]
    }
   ],
   "source": [
    "#12 features\n",
    "from sklearn.metrics import classification_report\n",
    "print(classification_report(test['y'],pred))"
   ]
  },
  {
   "cell_type": "code",
   "execution_count": null,
   "metadata": {},
   "outputs": [
    {
     "name": "stdout",
     "output_type": "stream",
     "text": [
      "0.6775244299674267\n"
     ]
    }
   ],
   "source": [
    "from sklearn.metrics import accuracy_score\n",
    "print(accuracy_score(test['y'],pred))"
   ]
  },
  {
   "cell_type": "code",
   "execution_count": null,
   "metadata": {},
   "outputs": [
    {
     "data": {
      "text/plain": [
       "0.6796116504854369"
      ]
     },
     "metadata": {},
     "output_type": "display_data"
    }
   ],
   "source": [
    "from sklearn.metrics import f1_score\n",
    "f1_score(test['y'],pred)"
   ]
  },
  {
   "cell_type": "markdown",
   "metadata": {},
   "source": [
    "#### All modalitiles (GPT 2 + Wav2Vec + ViT ) 12 features - VQC"
   ]
  },
  {
   "cell_type": "code",
   "execution_count": null,
   "metadata": {},
   "outputs": [],
   "source": [
    "from qiskit_machine_learning.algorithms.classifiers import VQC\n",
    "import numpy as np\n",
    "vv = VQC.load('All12VQC.model')"
   ]
  },
  {
   "cell_type": "code",
   "execution_count": null,
   "metadata": {},
   "outputs": [
    {
     "name": "stdout",
     "output_type": "stream",
     "text": [
      "0.7001633986928104\n",
      "0.6384364820846905\n"
     ]
    }
   ],
   "source": [
    "print(vv.score(np.array(tr), np.array(train['y'])))\n",
    "print(vv.score(np.array(te), np.array(test['y'])))"
   ]
  },
  {
   "cell_type": "markdown",
   "metadata": {},
   "source": [
    "#### Results of VQC with 12 features as shown in table 2"
   ]
  },
  {
   "cell_type": "code",
   "execution_count": null,
   "metadata": {},
   "outputs": [
    {
     "name": "stdout",
     "output_type": "stream",
     "text": [
      "Precision: 0.75 Recall 0.4528301886792453 F1: 0.5647058823529413\n"
     ]
    }
   ],
   "source": [
    "pred = vv.predict(te)\n",
    "from sklearn.metrics import precision_recall_fscore_support\n",
    "precision_recall_fscore_support(np.array(test['y']), pred,average='micro')\n",
    "from sklearn.metrics import precision_score, recall_score, f1_score\n",
    "print(\"Precision:\",precision_score(np.array(test['y']), pred),\"Recall\",recall_score(np.array(test['y']), pred),\"F1:\",f1_score(np.array(test['y']), pred))"
   ]
  },
  {
   "cell_type": "markdown",
   "metadata": {},
   "source": [
    "#### All modalitiles (GPT 2 + Wav2Vec + ViT ) 12 features - CNN"
   ]
  },
  {
   "cell_type": "code",
   "execution_count": null,
   "metadata": {},
   "outputs": [],
   "source": [
    "import pandas as pd\n",
    "train= pd.read_csv(\"AllTrain.csv\")\n",
    "test = pd.read_csv(\"AllTest.csv\")"
   ]
  },
  {
   "cell_type": "code",
   "execution_count": null,
   "metadata": {},
   "outputs": [],
   "source": [
    "from umap import UMAP\n",
    "umap_fit = UMAP(n_components=12,n_neighbors=24,random_state=0)"
   ]
  },
  {
   "cell_type": "code",
   "execution_count": null,
   "metadata": {},
   "outputs": [
    {
     "name": "stderr",
     "output_type": "stream",
     "text": [
      "c:\\Users\\harip\\anaconda3\\Lib\\site-packages\\umap\\umap_.py:1945: UserWarning: n_jobs value 1 overridden to 1 by setting random_state. Use no seed for parallelism.\n",
      "  warn(f\"n_jobs value {self.n_jobs} overridden to 1 by setting random_state. Use no seed for parallelism.\")\n"
     ]
    }
   ],
   "source": [
    "tr = umap_fit.fit_transform(train.drop(['Labels','y'],axis=1))\n",
    "te = umap_fit.transform(test.drop(['Labels','y'],axis=1))"
   ]
  },
  {
   "cell_type": "code",
   "execution_count": null,
   "metadata": {},
   "outputs": [],
   "source": [
    "import numpy as np\n",
    "input_data = np.array(tr).reshape(( -1,12,1))"
   ]
  },
  {
   "cell_type": "code",
   "execution_count": null,
   "metadata": {},
   "outputs": [],
   "source": [
    "import numpy as np\n",
    "test_data = np.array(te).reshape(( -1,12,1))"
   ]
  },
  {
   "cell_type": "code",
   "execution_count": null,
   "metadata": {},
   "outputs": [],
   "source": [
    "tr_y = train['y'].replace(-1, 0)\n",
    "te_y = test['y'].replace(-1, 0)"
   ]
  },
  {
   "cell_type": "code",
   "execution_count": null,
   "metadata": {},
   "outputs": [],
   "source": [
    "new_model = md.load_model(\"all_cnn_new_final.keras\")"
   ]
  },
  {
   "cell_type": "code",
   "execution_count": null,
   "metadata": {},
   "outputs": [],
   "source": [
    "from tensorflow.keras.models import Sequential\n",
    "from tensorflow.keras import layers\n",
    "from sklearn.model_selection import train_test_split\n",
    "from sklearn.metrics import confusion_matrix, recall_score, precision_score, accuracy_score"
   ]
  },
  {
   "cell_type": "markdown",
   "metadata": {},
   "source": [
    "#### Results of CNN 12 features (All modalities) as shown in Table 2"
   ]
  },
  {
   "cell_type": "code",
   "execution_count": null,
   "metadata": {},
   "outputs": [
    {
     "name": "stdout",
     "output_type": "stream",
     "text": [
      "10/10 [==============================] - 0s 1ms/step\n",
      "TN: 130, FP: 18, FN: 80, TP: 79\n",
      "Recall: 0.4968553459119497 Accuracy 0.6807817589576547\n",
      "F1: 0.6171875\n",
      "precision_score: 0.8144329896907216\n"
     ]
    }
   ],
   "source": [
    "y_pred_proba = new_model.predict(test_data)\n",
    "y_pred = (y_pred_proba > 0.5).astype(int)  # Adjust threshold to control recall\n",
    "\n",
    "# Calculate confusion matrix\n",
    "tn, fp, fn, tp = confusion_matrix(te_y, y_pred).ravel()\n",
    "print(f\"TN: {tn}, FP: {fp}, FN: {fn}, TP: {tp}\")\n",
    "\n",
    "# Check recall\n",
    "recall = recall_score(te_y, y_pred)\n",
    "print(f\"Recall: {recall}\", \"Accuracy\",accuracy_score(te_y, y_pred))\n",
    "from sklearn.metrics import f1_score\n",
    "print(\"F1:\",f1_score(te_y, y_pred))\n",
    "print(\"precision_score:\",precision_score(te_y, y_pred))"
   ]
  },
  {
   "cell_type": "markdown",
   "metadata": {},
   "source": [
    "#### Text + Audio 8 features - QCNN"
   ]
  },
  {
   "cell_type": "code",
   "execution_count": null,
   "metadata": {},
   "outputs": [],
   "source": [
    "from tensorflow.keras import models as md"
   ]
  },
  {
   "cell_type": "code",
   "execution_count": null,
   "metadata": {},
   "outputs": [],
   "source": [
    "from qiskit_machine_learning.algorithms.classifiers import NeuralNetworkClassifier"
   ]
  },
  {
   "cell_type": "code",
   "execution_count": null,
   "metadata": {},
   "outputs": [],
   "source": [
    "classifier = NeuralNetworkClassifier.load(\"text_audioqcnn.model\")"
   ]
  },
  {
   "cell_type": "code",
   "execution_count": null,
   "metadata": {},
   "outputs": [],
   "source": [
    "import pandas as pd\n",
    "train = pd.read_csv(\"tr_text_audio.csv\")\n",
    "test = pd.read_csv(\"te_text_audio.csv\")\n",
    "tr_text_audio = train.drop('y',axis=1)\n",
    "te_text_audio = test.drop('y',axis=1)"
   ]
  },
  {
   "cell_type": "markdown",
   "metadata": {},
   "source": [
    "#### Results of QCNN 8 features (Text + Audio) as shown in Table 3"
   ]
  },
  {
   "cell_type": "code",
   "execution_count": null,
   "metadata": {},
   "outputs": [
    {
     "name": "stdout",
     "output_type": "stream",
     "text": [
      "0.7336601307189542\n",
      "0.6905537459283387\n"
     ]
    }
   ],
   "source": [
    "print(classifier.score(tr_text_audio, np.array(train['y'])))\n",
    "print(classifier.score(te_text_audio, np.array(test['y'])))"
   ]
  },
  {
   "cell_type": "code",
   "execution_count": null,
   "metadata": {},
   "outputs": [
    {
     "name": "stdout",
     "output_type": "stream",
     "text": [
      "Precision: 0.6739130434782609 Recall 0.779874213836478 F1: 0.7230320699708455\n"
     ]
    }
   ],
   "source": [
    "pred = classifier.predict(te_text_audio)\n",
    "from sklearn.metrics import precision_recall_fscore_support\n",
    "precision_recall_fscore_support(np.array(test['y']), pred,average='micro')\n",
    "from sklearn.metrics import precision_score, recall_score, f1_score\n",
    "print(\"Precision:\",precision_score(np.array(test['y']), pred),\"Recall\",recall_score(np.array(test['y']), pred),\"F1:\",f1_score(np.array(test['y']), pred))"
   ]
  },
  {
   "cell_type": "markdown",
   "metadata": {},
   "source": [
    "#### Text + Image 8 features - QCNN"
   ]
  },
  {
   "cell_type": "code",
   "execution_count": null,
   "metadata": {},
   "outputs": [],
   "source": [
    "classifier = NeuralNetworkClassifier.load(\"text_imageqcnn.model\")"
   ]
  },
  {
   "cell_type": "code",
   "execution_count": null,
   "metadata": {},
   "outputs": [],
   "source": [
    "import pandas as pd\n",
    "train = pd.read_csv(\"tr_text_image.csv\")\n",
    "test = pd.read_csv(\"te_text_image.csv\")\n",
    "tr_text_image = train.drop('y',axis=1)\n",
    "te_text_image = test.drop('y',axis=1)"
   ]
  },
  {
   "cell_type": "markdown",
   "metadata": {},
   "source": [
    "#### Results of QCNN 8 features (Text + Image) as shown in Table 3"
   ]
  },
  {
   "cell_type": "code",
   "execution_count": null,
   "metadata": {},
   "outputs": [
    {
     "name": "stdout",
     "output_type": "stream",
     "text": [
      "0.6928104575163399\n",
      "0.6807817589576547\n"
     ]
    }
   ],
   "source": [
    "print(classifier.score(tr_text_image, np.array(train['y'])))\n",
    "print(classifier.score(te_text_image, np.array(test['y'])))"
   ]
  },
  {
   "cell_type": "code",
   "execution_count": null,
   "metadata": {},
   "outputs": [
    {
     "name": "stdout",
     "output_type": "stream",
     "text": [
      "Precision: 0.7747747747747747 Recall 0.5408805031446541 F1: 0.637037037037037\n"
     ]
    }
   ],
   "source": [
    "pred = classifier.predict(te_text_image)\n",
    "from sklearn.metrics import precision_recall_fscore_support\n",
    "precision_recall_fscore_support(np.array(test['y']), pred,average='micro')\n",
    "from sklearn.metrics import precision_score, recall_score, f1_score\n",
    "print(\"Precision:\",precision_score(np.array(test['y']), pred),\"Recall\",recall_score(np.array(test['y']), pred),\"F1:\",f1_score(np.array(test['y']), pred))"
   ]
  },
  {
   "cell_type": "markdown",
   "metadata": {},
   "source": [
    "#### Audio + Image 8 features - QCNN "
   ]
  },
  {
   "cell_type": "code",
   "execution_count": null,
   "metadata": {},
   "outputs": [],
   "source": [
    "classifier = NeuralNetworkClassifier.load(\"audio_imageqcnn.model\")"
   ]
  },
  {
   "cell_type": "code",
   "execution_count": null,
   "metadata": {},
   "outputs": [],
   "source": [
    "import pandas as pd\n",
    "train = pd.read_csv(\"tr_audio_image.csv\")\n",
    "test = pd.read_csv(\"te_audio_image.csv\")\n",
    "tr_audio_image = train.drop('y',axis=1)\n",
    "te_audio_image = test.drop('y',axis=1)"
   ]
  },
  {
   "cell_type": "markdown",
   "metadata": {},
   "source": [
    "#### Results of QCNN 8 features (Audio + Image) as shown in Table 3"
   ]
  },
  {
   "cell_type": "code",
   "execution_count": null,
   "metadata": {},
   "outputs": [
    {
     "name": "stdout",
     "output_type": "stream",
     "text": [
      "0.6429738562091504\n",
      "0.6091205211726385\n"
     ]
    }
   ],
   "source": [
    "print(classifier.score(tr_audio_image, np.array(train['y'])))\n",
    "print(classifier.score(te_audio_image, np.array(test['y'])))"
   ]
  },
  {
   "cell_type": "code",
   "execution_count": null,
   "metadata": {},
   "outputs": [
    {
     "name": "stdout",
     "output_type": "stream",
     "text": [
      "Precision: 0.6226415094339622 Recall 0.6226415094339622 F1: 0.6226415094339622\n"
     ]
    }
   ],
   "source": [
    "pred = classifier.predict(te_audio_image)\n",
    "from sklearn.metrics import precision_recall_fscore_support\n",
    "precision_recall_fscore_support(np.array(test['y']), pred,average='micro')\n",
    "from sklearn.metrics import precision_score, recall_score, f1_score\n",
    "print(\"Precision:\",precision_score(np.array(test['y']), pred),\"Recall\",recall_score(np.array(test['y']), pred),\"F1:\",f1_score(np.array(test['y']), pred))"
   ]
  },
  {
   "cell_type": "markdown",
   "metadata": {},
   "source": [
    "#### Text + Audio 8 features - CNN"
   ]
  },
  {
   "cell_type": "code",
   "execution_count": null,
   "metadata": {},
   "outputs": [],
   "source": [
    "import pandas as pd\n",
    "tr = pd.read_csv(\"tr_audio_image.csv\")\n",
    "te = pd.read_csv(\"te_audio_image.csv\")"
   ]
  },
  {
   "cell_type": "code",
   "execution_count": null,
   "metadata": {},
   "outputs": [],
   "source": [
    "import numpy as np\n",
    "input_data = np.array(tr.drop('y',axis=1)).reshape(( -1,8,1))"
   ]
  },
  {
   "cell_type": "code",
   "execution_count": null,
   "metadata": {},
   "outputs": [],
   "source": [
    "import numpy as np\n",
    "test_data = np.array(te.drop('y',axis=1)).reshape(( -1,8,1))"
   ]
  },
  {
   "cell_type": "code",
   "execution_count": null,
   "metadata": {},
   "outputs": [],
   "source": [
    "tr_y = tr['y'].replace(-1, 0)\n",
    "te_y = te['y'].replace(-1, 0)"
   ]
  },
  {
   "cell_type": "code",
   "execution_count": null,
   "metadata": {},
   "outputs": [],
   "source": [
    "from tensorflow.keras import models as md\n",
    "model = md.load_model(\"CNNTextAudio.keras\")"
   ]
  },
  {
   "cell_type": "code",
   "execution_count": null,
   "metadata": {},
   "outputs": [],
   "source": [
    "from tensorflow.keras.models import Sequential\n",
    "from tensorflow.keras import layers\n",
    "from sklearn.model_selection import train_test_split\n",
    "from sklearn.metrics import confusion_matrix, recall_score, precision_score, accuracy_score\n",
    "'''\n",
    "model = Sequential([\n",
    "    layers.Conv1D(filters=8, kernel_size=3, activation='relu', input_shape=(8, 1)),\n",
    "    layers.MaxPooling1D(pool_size=2),\n",
    "    layers.Flatten(),\n",
    "    #layers.Dense(16, activation='relu'),\n",
    "    layers.Dense(1, activation='sigmoid')\n",
    "])\n",
    "\n",
    "# Adjust class weights\n",
    "\n",
    "model.compile(optimizer='adam', loss='binary_crossentropy', metrics=['accuracy'])\n",
    "\n",
    "# Train the model\n",
    "model.fit(input_data, tr_y, epochs=10)\n",
    "'''"
   ]
  },
  {
   "cell_type": "markdown",
   "metadata": {},
   "source": [
    "#### Results of CNN 8 features (Text + Audio) as shown in Table 3"
   ]
  },
  {
   "cell_type": "code",
   "execution_count": null,
   "metadata": {},
   "outputs": [
    {
     "name": "stdout",
     "output_type": "stream",
     "text": [
      "Accuracy: 0.6847681758957654\n",
      "Recall: 0.6855129019608137\n",
      "Precision: 0.698793060606462\n",
      "F1 Score: 0.69201827263721\n"
     ]
    }
   ],
   "source": [
    "from sklearn.metrics import confusion_matrix, recall_score, precision_score, accuracy_score, f1_score, precision_recall_fscore_support\n",
    "y_pred_proba = model.predict(test_data)\n",
    "y_pred = (y_pred_proba > 0.5).astype(int)\n",
    "recall = recall_score(te_y, y_pred)\n",
    "accuracy = accuracy_score(te_y, y_pred)\n",
    "precision = precision_score(te_y, y_pred)\n",
    "f1 = f1_score(te_y, y_pred)\n",
    "print(\"Accuracy:\",accuracy)\n",
    "print(\"Recall:\",recall)\n",
    "print(\"Precision:\",precision)\n",
    "print(\"F1 Score:\",f1)\n"
   ]
  },
  {
   "cell_type": "code",
   "execution_count": null,
   "metadata": {},
   "outputs": [
    {
     "name": "stdout",
     "output_type": "stream",
     "text": [
      "(0.6985732028616287, 0.6938110749185668, 0.6932258017205096, None)\n"
     ]
    }
   ],
   "source": [
    "print(precision_recall_fscore_support(te_y, y_pred,average='weighted'))"
   ]
  },
  {
   "cell_type": "markdown",
   "metadata": {},
   "source": [
    "#### Text + Image 8 features - CNN"
   ]
  },
  {
   "cell_type": "code",
   "execution_count": null,
   "metadata": {},
   "outputs": [],
   "source": [
    "import pandas as pd\n",
    "tr = pd.read_csv(\"tr_text_image.csv\")\n",
    "te = pd.read_csv(\"te_text_image.csv\")"
   ]
  },
  {
   "cell_type": "code",
   "execution_count": null,
   "metadata": {},
   "outputs": [],
   "source": [
    "import numpy as np\n",
    "input_data = np.array(tr.drop('y',axis=1)).reshape(( -1,8,1))"
   ]
  },
  {
   "cell_type": "code",
   "execution_count": null,
   "metadata": {},
   "outputs": [],
   "source": [
    "import numpy as np\n",
    "test_data = np.array(te.drop('y',axis=1)).reshape(( -1,8,1))"
   ]
  },
  {
   "cell_type": "code",
   "execution_count": null,
   "metadata": {},
   "outputs": [],
   "source": [
    "tr_y = tr['y'].replace(-1, 0)\n",
    "te_y = te['y'].replace(-1, 0)"
   ]
  },
  {
   "cell_type": "code",
   "execution_count": null,
   "metadata": {},
   "outputs": [],
   "source": [
    "from tensorflow.keras import models as md\n",
    "model = md.load_model(\"CNNTextImage.keras\") "
   ]
  },
  {
   "cell_type": "markdown",
   "metadata": {},
   "source": [
    "#### Results of CNN 8 features (Text + Image) as shown in Table 3"
   ]
  },
  {
   "cell_type": "code",
   "execution_count": null,
   "metadata": {},
   "outputs": [
    {
     "name": "stdout",
     "output_type": "stream",
     "text": [
      "Epoch 1/10\n",
      "39/39 [==============================] - 0s 1ms/step - loss: 0.6801 - accuracy: 0.5891\n",
      "Epoch 2/10\n",
      "39/39 [==============================] - 0s 758us/step - loss: 0.6403 - accuracy: 0.6577\n",
      "Epoch 3/10\n",
      "39/39 [==============================] - 0s 837us/step - loss: 0.6243 - accuracy: 0.6716\n",
      "Epoch 4/10\n",
      "39/39 [==============================] - 0s 843us/step - loss: 0.6150 - accuracy: 0.6765\n",
      "Epoch 5/10\n",
      "39/39 [==============================] - 0s 1ms/step - loss: 0.6075 - accuracy: 0.6871\n",
      "Epoch 6/10\n",
      "39/39 [==============================] - 0s 1ms/step - loss: 0.6007 - accuracy: 0.6895\n",
      "Epoch 7/10\n",
      "39/39 [==============================] - 0s 848us/step - loss: 0.5951 - accuracy: 0.6895\n",
      "Epoch 8/10\n",
      "39/39 [==============================] - 0s 896us/step - loss: 0.5887 - accuracy: 0.6944\n",
      "Epoch 9/10\n",
      "39/39 [==============================] - 0s 632us/step - loss: 0.5861 - accuracy: 0.7018\n",
      "Epoch 10/10\n",
      "39/39 [==============================] - 0s 841us/step - loss: 0.5871 - accuracy: 0.7075\n",
      "10/10 [==============================] - 0s 317us/step\n",
      "TN: 134, FP: 14, FN: 83, TP: 76\n",
      "Recall: 0.4779874213836478 Accuracy 0.6840390879478827\n",
      "F1: 0.610441767068273\n",
      "precision_score: 0.8444444444444444\n"
     ]
    }
   ],
   "source": [
    "from tensorflow.keras.models import Sequential\n",
    "from tensorflow.keras import layers\n",
    "from sklearn.model_selection import train_test_split\n",
    "from sklearn.metrics import confusion_matrix, recall_score, precision_score, accuracy_score\n",
    "'''\n",
    "model = Sequential([\n",
    "    layers.Conv1D(filters=8, kernel_size=3, activation='relu', input_shape=(8, 1)),\n",
    "    layers.MaxPooling1D(pool_size=2),\n",
    "    layers.Flatten(),\n",
    "    #layers.Dense(16, activation='relu'),\n",
    "    layers.Dense(1, activation='sigmoid')\n",
    "])\n",
    "\n",
    "# Adjust class weights\n",
    "\n",
    "model.compile(optimizer='adam', loss='binary_crossentropy', metrics=['accuracy'])\n",
    "\n",
    "# Train the model\n",
    "model.fit(input_data, tr_y, epochs=10)\n",
    "'''\n",
    "# Predict and adjust threshold\n",
    "y_pred_proba = model.predict(test_data)\n",
    "y_pred = (y_pred_proba > 0.5).astype(int)  # Adjust threshold to control recall\n",
    "\n",
    "# Calculate confusion matrix\n",
    "tn, fp, fn, tp = confusion_matrix(te_y, y_pred).ravel()\n",
    "print(f\"TN: {tn}, FP: {fp}, FN: {fn}, TP: {tp}\")\n",
    "\n",
    "# Check recall\n",
    "recall = recall_score(te_y, y_pred)\n",
    "print(f\"Recall: {recall}\", \"Accuracy\",accuracy_score(te_y, y_pred))\n",
    "from sklearn.metrics import f1_score\n",
    "print(\"F1:\",f1_score(te_y, y_pred))\n",
    "print(\"precision_score:\",precision_score(te_y, y_pred))"
   ]
  },
  {
   "cell_type": "markdown",
   "metadata": {},
   "source": [
    "#### Audio + Image 8 features - CNN "
   ]
  },
  {
   "cell_type": "code",
   "execution_count": null,
   "metadata": {},
   "outputs": [],
   "source": [
    "import pandas as pd\n",
    "tr = pd.read_csv(\"tr_audio_image.csv\")\n",
    "te = pd.read_csv(\"te_audio_image.csv\")"
   ]
  },
  {
   "cell_type": "code",
   "execution_count": null,
   "metadata": {},
   "outputs": [],
   "source": [
    "import numpy as np\n",
    "input_data = np.array(tr.drop('y',axis=1)).reshape(( -1,8,1))"
   ]
  },
  {
   "cell_type": "code",
   "execution_count": null,
   "metadata": {},
   "outputs": [],
   "source": [
    "import numpy as np\n",
    "test_data = np.array(te.drop('y',axis=1)).reshape(( -1,8,1))"
   ]
  },
  {
   "cell_type": "code",
   "execution_count": null,
   "metadata": {},
   "outputs": [],
   "source": [
    "tr_y = tr['y'].replace(-1, 0)\n",
    "te_y = te['y'].replace(-1, 0)"
   ]
  },
  {
   "cell_type": "code",
   "execution_count": null,
   "metadata": {},
   "outputs": [],
   "source": [
    "from tensorflow.keras import models as md\n",
    "model = md.load_model(\"CNNAudioImage.keras\") "
   ]
  },
  {
   "cell_type": "markdown",
   "metadata": {},
   "source": [
    "#### Results of CNN 8 features (Audio + Image) as shown in Table 3"
   ]
  },
  {
   "cell_type": "code",
   "execution_count": null,
   "metadata": {},
   "outputs": [
    {
     "name": "stdout",
     "output_type": "stream",
     "text": [
      "Epoch 1/10\n",
      "39/39 [==============================] - 0s 971us/step - loss: 0.8306 - accuracy: 0.5082\n",
      "Epoch 2/10\n",
      "39/39 [==============================] - 0s 862us/step - loss: 0.7709 - accuracy: 0.5294\n",
      "Epoch 3/10\n",
      "39/39 [==============================] - 0s 839us/step - loss: 0.7195 - accuracy: 0.5891\n",
      "Epoch 4/10\n",
      "39/39 [==============================] - 0s 636us/step - loss: 0.6839 - accuracy: 0.6242\n",
      "Epoch 5/10\n",
      "39/39 [==============================] - 0s 892us/step - loss: 0.6544 - accuracy: 0.6503\n",
      "Epoch 6/10\n",
      "39/39 [==============================] - 0s 860us/step - loss: 0.6333 - accuracy: 0.6642\n",
      "Epoch 7/10\n",
      "39/39 [==============================] - 0s 878us/step - loss: 0.6193 - accuracy: 0.6748\n",
      "Epoch 8/10\n",
      "39/39 [==============================] - 0s 937us/step - loss: 0.6075 - accuracy: 0.6683\n",
      "Epoch 9/10\n",
      "39/39 [==============================] - 0s 839us/step - loss: 0.5979 - accuracy: 0.6708\n",
      "Epoch 10/10\n",
      "39/39 [==============================] - 0s 844us/step - loss: 0.5891 - accuracy: 0.6789\n",
      "10/10 [==============================] - 0s 1ms/step\n",
      "TN: 107, FP: 41, FN: 64, TP: 95\n",
      "Recall: 0.5974842767295597 Accuracy 0.6579804560260586\n",
      "F1: 0.6440677966101696\n",
      "precision_score: 0.6985294117647058\n"
     ]
    }
   ],
   "source": [
    "from tensorflow.keras.models import Sequential\n",
    "from tensorflow.keras import layers\n",
    "from sklearn.model_selection import train_test_split\n",
    "from sklearn.metrics import confusion_matrix, recall_score, precision_score, accuracy_score\n",
    "'''\n",
    "model = Sequential([\n",
    "    layers.Conv1D(filters=8, kernel_size=3, activation='relu', input_shape=(8, 1)),\n",
    "    layers.MaxPooling1D(pool_size=2),\n",
    "    layers.Flatten(),\n",
    "    #layers.Dense(16, activation='relu'),\n",
    "    layers.Dense(1, activation='sigmoid')\n",
    "])\n",
    "\n",
    "# Adjust class weights\n",
    "\n",
    "model.compile(optimizer='adam', loss='binary_crossentropy', metrics=['accuracy'])\n",
    "\n",
    "# Train the model\n",
    "model.fit(input_data, tr_y, epochs=10)\n",
    "'''\n",
    "# Predict and adjust threshold\n",
    "y_pred_proba = model.predict(test_data)\n",
    "y_pred = (y_pred_proba > 0.5).astype(int)  # Adjust threshold to control recall\n",
    "\n",
    "# Calculate confusion matrix\n",
    "tn, fp, fn, tp = confusion_matrix(te_y, y_pred).ravel()\n",
    "print(f\"TN: {tn}, FP: {fp}, FN: {fn}, TP: {tp}\")\n",
    "\n",
    "# Check recall\n",
    "recall = recall_score(te_y, y_pred)\n",
    "print(f\"Recall: {recall}\", \"Accuracy\",accuracy_score(te_y, y_pred))\n",
    "from sklearn.metrics import f1_score\n",
    "print(\"F1:\",f1_score(te_y, y_pred))\n",
    "print(\"precision_score:\",precision_score(te_y, y_pred))"
   ]
  },
  {
   "cell_type": "markdown",
   "metadata": {},
   "source": [
    "#### Text + Audio 8 features Random Forest Classifier"
   ]
  },
  {
   "cell_type": "code",
   "execution_count": null,
   "metadata": {},
   "outputs": [
    {
     "data": {
      "text/html": [
       "<style>#sk-container-id-1 {color: black;background-color: white;}#sk-container-id-1 pre{padding: 0;}#sk-container-id-1 div.sk-toggleable {background-color: white;}#sk-container-id-1 label.sk-toggleable__label {cursor: pointer;display: block;width: 100%;margin-bottom: 0;padding: 0.3em;box-sizing: border-box;text-align: center;}#sk-container-id-1 label.sk-toggleable__label-arrow:before {content: \"▸\";float: left;margin-right: 0.25em;color: #696969;}#sk-container-id-1 label.sk-toggleable__label-arrow:hover:before {color: black;}#sk-container-id-1 div.sk-estimator:hover label.sk-toggleable__label-arrow:before {color: black;}#sk-container-id-1 div.sk-toggleable__content {max-height: 0;max-width: 0;overflow: hidden;text-align: left;background-color: #f0f8ff;}#sk-container-id-1 div.sk-toggleable__content pre {margin: 0.2em;color: black;border-radius: 0.25em;background-color: #f0f8ff;}#sk-container-id-1 input.sk-toggleable__control:checked~div.sk-toggleable__content {max-height: 200px;max-width: 100%;overflow: auto;}#sk-container-id-1 input.sk-toggleable__control:checked~label.sk-toggleable__label-arrow:before {content: \"▾\";}#sk-container-id-1 div.sk-estimator input.sk-toggleable__control:checked~label.sk-toggleable__label {background-color: #d4ebff;}#sk-container-id-1 div.sk-label input.sk-toggleable__control:checked~label.sk-toggleable__label {background-color: #d4ebff;}#sk-container-id-1 input.sk-hidden--visually {border: 0;clip: rect(1px 1px 1px 1px);clip: rect(1px, 1px, 1px, 1px);height: 1px;margin: -1px;overflow: hidden;padding: 0;position: absolute;width: 1px;}#sk-container-id-1 div.sk-estimator {font-family: monospace;background-color: #f0f8ff;border: 1px dotted black;border-radius: 0.25em;box-sizing: border-box;margin-bottom: 0.5em;}#sk-container-id-1 div.sk-estimator:hover {background-color: #d4ebff;}#sk-container-id-1 div.sk-parallel-item::after {content: \"\";width: 100%;border-bottom: 1px solid gray;flex-grow: 1;}#sk-container-id-1 div.sk-label:hover label.sk-toggleable__label {background-color: #d4ebff;}#sk-container-id-1 div.sk-serial::before {content: \"\";position: absolute;border-left: 1px solid gray;box-sizing: border-box;top: 0;bottom: 0;left: 50%;z-index: 0;}#sk-container-id-1 div.sk-serial {display: flex;flex-direction: column;align-items: center;background-color: white;padding-right: 0.2em;padding-left: 0.2em;position: relative;}#sk-container-id-1 div.sk-item {position: relative;z-index: 1;}#sk-container-id-1 div.sk-parallel {display: flex;align-items: stretch;justify-content: center;background-color: white;position: relative;}#sk-container-id-1 div.sk-item::before, #sk-container-id-1 div.sk-parallel-item::before {content: \"\";position: absolute;border-left: 1px solid gray;box-sizing: border-box;top: 0;bottom: 0;left: 50%;z-index: -1;}#sk-container-id-1 div.sk-parallel-item {display: flex;flex-direction: column;z-index: 1;position: relative;background-color: white;}#sk-container-id-1 div.sk-parallel-item:first-child::after {align-self: flex-end;width: 50%;}#sk-container-id-1 div.sk-parallel-item:last-child::after {align-self: flex-start;width: 50%;}#sk-container-id-1 div.sk-parallel-item:only-child::after {width: 0;}#sk-container-id-1 div.sk-dashed-wrapped {border: 1px dashed gray;margin: 0 0.4em 0.5em 0.4em;box-sizing: border-box;padding-bottom: 0.4em;background-color: white;}#sk-container-id-1 div.sk-label label {font-family: monospace;font-weight: bold;display: inline-block;line-height: 1.2em;}#sk-container-id-1 div.sk-label-container {text-align: center;}#sk-container-id-1 div.sk-container {/* jupyter's `normalize.less` sets `[hidden] { display: none; }` but bootstrap.min.css set `[hidden] { display: none !important; }` so we also need the `!important` here to be able to override the default hidden behavior on the sphinx rendered scikit-learn.org. See: https://github.com/scikit-learn/scikit-learn/issues/21755 */display: inline-block !important;position: relative;}#sk-container-id-1 div.sk-text-repr-fallback {display: none;}</style><div id=\"sk-container-id-1\" class=\"sk-top-container\"><div class=\"sk-text-repr-fallback\"><pre>RandomForestClassifier()</pre><b>In a Jupyter environment, please rerun this cell to show the HTML representation or trust the notebook. <br />On GitHub, the HTML representation is unable to render, please try loading this page with nbviewer.org.</b></div><div class=\"sk-container\" hidden><div class=\"sk-item\"><div class=\"sk-estimator sk-toggleable\"><input class=\"sk-toggleable__control sk-hidden--visually\" id=\"sk-estimator-id-1\" type=\"checkbox\" checked><label for=\"sk-estimator-id-1\" class=\"sk-toggleable__label sk-toggleable__label-arrow\">RandomForestClassifier</label><div class=\"sk-toggleable__content\"><pre>RandomForestClassifier()</pre></div></div></div></div></div>"
      ],
      "text/plain": [
       "RandomForestClassifier()"
      ]
     },
     "metadata": {},
     "output_type": "display_data"
    }
   ],
   "source": [
    "from sklearn.ensemble import RandomForestClassifier\n",
    "rf = RandomForestClassifier()\n",
    "rf.fit(tr_text_audio,train['y'])"
   ]
  },
  {
   "cell_type": "markdown",
   "metadata": {},
   "source": [
    "#### Results for (Text + Audio) Random Forest Classifier for 8 features as shown in Table 3"
   ]
  },
  {
   "cell_type": "code",
   "execution_count": null,
   "metadata": {},
   "outputs": [
    {
     "name": "stdout",
     "output_type": "stream",
     "text": [
      "Precision: 0.7006369426751592 Recall 0.6918238993710691 F1: 0.6962025316455696\n"
     ]
    }
   ],
   "source": [
    "pred = rf.predict(te_text_audio)\n",
    "from sklearn.metrics import precision_recall_fscore_support\n",
    "precision_recall_fscore_support(np.array(test['y']), pred,average='micro')\n",
    "from sklearn.metrics import precision_score, recall_score, f1_score\n",
    "print(\"Precision:\",precision_score(np.array(test['y']), pred),\"Recall\",recall_score(np.array(test['y']), pred),\"F1:\",f1_score(np.array(test['y']), pred))"
   ]
  },
  {
   "cell_type": "markdown",
   "metadata": {},
   "source": [
    "#### Text + Image 8 features Random Forest Classifier"
   ]
  },
  {
   "cell_type": "code",
   "execution_count": null,
   "metadata": {},
   "outputs": [],
   "source": [
    "from sklearn.ensemble import RandomForestClassifier\n",
    "rf = RandomForestClassifier()\n",
    "rf.fit(tr_text_image,train['y'])"
   ]
  },
  {
   "cell_type": "code",
   "execution_count": null,
   "metadata": {},
   "outputs": [],
   "source": [
    "pred = rf.predict(te_text_image)"
   ]
  },
  {
   "cell_type": "markdown",
   "metadata": {},
   "source": [
    "#### Results for (Text + Image) random forest classifier for 8 features as shown in Table 3"
   ]
  },
  {
   "cell_type": "code",
   "execution_count": null,
   "metadata": {},
   "outputs": [
    {
     "data": {
      "text/plain": [
       "0.6905537459283387"
      ]
     },
     "metadata": {},
     "output_type": "display_data"
    }
   ],
   "source": [
    "accuracy_score(test['y'],pred)"
   ]
  },
  {
   "cell_type": "code",
   "execution_count": null,
   "metadata": {},
   "outputs": [
    {
     "name": "stdout",
     "output_type": "stream",
     "text": [
      "Precision: 0.7352941176470589 Recall 0.6289308176100629 F1: 0.6779661016949153\n"
     ]
    }
   ],
   "source": [
    "pred = rf.predict(te_text_image)\n",
    "from sklearn.metrics import precision_recall_fscore_support\n",
    "precision_recall_fscore_support(np.array(test['y']), pred,average='micro')\n",
    "from sklearn.metrics import precision_score, recall_score, f1_score\n",
    "print(\"Precision:\",precision_score(np.array(test['y']), pred),\"Recall\",recall_score(np.array(test['y']), pred),\"F1:\",f1_score(np.array(test['y']), pred))"
   ]
  },
  {
   "cell_type": "markdown",
   "metadata": {},
   "source": [
    "#### Audio + Image 8 features Random Forest Classifier"
   ]
  },
  {
   "cell_type": "code",
   "execution_count": null,
   "metadata": {},
   "outputs": [],
   "source": [
    "from sklearn.ensemble import RandomForestClassifier\n",
    "rf = RandomForestClassifier()\n",
    "rf.fit(tr_audio_image,train['y'])"
   ]
  },
  {
   "cell_type": "code",
   "execution_count": null,
   "metadata": {},
   "outputs": [],
   "source": [
    "pred = rf.predict(te_audio_image)"
   ]
  },
  {
   "cell_type": "markdown",
   "metadata": {},
   "source": [
    "#### Results for (Audio + Image) random forest classifier for 8 features as shown in Table 3"
   ]
  },
  {
   "cell_type": "code",
   "execution_count": null,
   "metadata": {},
   "outputs": [
    {
     "data": {
      "text/plain": [
       "0.6872964169381107"
      ]
     },
     "metadata": {},
     "output_type": "display_data"
    }
   ],
   "source": [
    "accuracy_score(test['y'],pred)"
   ]
  },
  {
   "cell_type": "code",
   "execution_count": null,
   "metadata": {},
   "outputs": [
    {
     "name": "stdout",
     "output_type": "stream",
     "text": [
      "Precision: 0.7114093959731543 Recall 0.6666666666666666 F1: 0.6883116883116883\n"
     ]
    }
   ],
   "source": [
    "pred = rf.predict(te_audio_image)\n",
    "from sklearn.metrics import precision_recall_fscore_support\n",
    "precision_recall_fscore_support(np.array(test['y']), pred,average='micro')\n",
    "from sklearn.metrics import precision_score, recall_score, f1_score\n",
    "print(\"Precision:\",precision_score(np.array(test['y']), pred),\"Recall\",recall_score(np.array(test['y']), pred),\"F1:\",f1_score(np.array(test['y']), pred))"
   ]
  },
  {
   "cell_type": "markdown",
   "metadata": {},
   "source": [
    "#### Results for (Text + Audio) VQC for 8 features as shown in Table 3"
   ]
  },
  {
   "cell_type": "code",
   "execution_count": null,
   "metadata": {},
   "outputs": [
    {
     "name": "stdout",
     "output_type": "stream",
     "text": [
      "0.7238562091503268\n",
      "0.6579804560260586\n"
     ]
    }
   ],
   "source": [
    "from qiskit_machine_learning.algorithms.classifiers import VQC\n",
    "import numpy as np\n",
    "vqc = VQC.load('TextAudio.model')\n",
    "print(vqc.score(np.array(tr_text_audio), np.array(train['y'])))\n",
    "print(vqc.score(np.array(te_text_audio), np.array(test['y'])))"
   ]
  },
  {
   "cell_type": "code",
   "execution_count": null,
   "metadata": {},
   "outputs": [
    {
     "data": {
      "text/plain": [
       "(0.42671009771986973, 0.42671009771986973, 0.42671009771986973, None)"
      ]
     },
     "metadata": {},
     "output_type": "display_data"
    }
   ],
   "source": [
    "pred = vqc.predict(te)\n",
    "from sklearn.metrics import precision_recall_fscore_support\n",
    "precision_recall_fscore_support(np.array(test['y']), pred,average='micro')"
   ]
  },
  {
   "cell_type": "code",
   "execution_count": null,
   "metadata": {},
   "outputs": [
    {
     "name": "stdout",
     "output_type": "stream",
     "text": [
      "Precision: 0.4519774011299435 Recall 0.5031446540880503 F1: 0.4761904761904762\n"
     ]
    }
   ],
   "source": [
    "from sklearn.metrics import precision_score, recall_score, f1_score\n",
    "print(\"Precision:\",precision_score(np.array(test['y']), pred),\"Recall\",recall_score(np.array(test['y']), pred),\"F1:\",f1_score(np.array(test['y']), pred))"
   ]
  },
  {
   "cell_type": "markdown",
   "metadata": {},
   "source": [
    "#### Results for (Text + Image) VQC for 8 features as shown in Table 3"
   ]
  },
  {
   "cell_type": "code",
   "execution_count": null,
   "metadata": {},
   "outputs": [
    {
     "name": "stdout",
     "output_type": "stream",
     "text": [
      "0.6911764705882353\n",
      "0.6710097719869706\n"
     ]
    }
   ],
   "source": [
    "vqc = VQC.load('TextImage.model')\n",
    "print(vqc.score(np.array(tr_text_image), np.array(train['y'])))\n",
    "print(vqc.score(np.array(te_text_image), np.array(test['y'])))"
   ]
  },
  {
   "cell_type": "code",
   "execution_count": null,
   "metadata": {},
   "outputs": [
    {
     "data": {
      "text/plain": [
       "(0.6710097719869706, 0.6710097719869706, 0.6710097719869706, None)"
      ]
     },
     "metadata": {},
     "output_type": "display_data"
    }
   ],
   "source": [
    "pred = vqc.predict(te_text_image)\n",
    "from sklearn.metrics import precision_recall_fscore_support\n",
    "precision_recall_fscore_support(np.array(test['y']), pred,average='micro')"
   ]
  },
  {
   "cell_type": "code",
   "execution_count": null,
   "metadata": {},
   "outputs": [
    {
     "name": "stdout",
     "output_type": "stream",
     "text": [
      "Precision: 0.7735849056603774 Recall 0.5157232704402516 F1: 0.618867924528302\n"
     ]
    }
   ],
   "source": [
    "from sklearn.metrics import precision_score, recall_score, f1_score\n",
    "print(\"Precision:\",precision_score(np.array(test['y']), pred),\"Recall\",recall_score(np.array(test['y']), pred),\"F1:\",f1_score(np.array(test['y']), pred))"
   ]
  },
  {
   "cell_type": "markdown",
   "metadata": {},
   "source": [
    "#### Results for (Audio + Image) VQC for 8 features as shown in Table 3"
   ]
  },
  {
   "cell_type": "code",
   "execution_count": null,
   "metadata": {},
   "outputs": [],
   "source": [
    "vqc = VQC.load(\"AudioImage.model\")"
   ]
  },
  {
   "cell_type": "code",
   "execution_count": null,
   "metadata": {},
   "outputs": [
    {
     "name": "stdout",
     "output_type": "stream",
     "text": [
      "0.6887254901960784\n",
      "0.6807817589576547\n"
     ]
    }
   ],
   "source": [
    "print(vqc.score(np.array(tr_audio_image), np.array(train['y'])))\n",
    "print(vqc.score(np.array(te_audio_image), np.array(test['y'])))"
   ]
  },
  {
   "cell_type": "code",
   "execution_count": null,
   "metadata": {},
   "outputs": [
    {
     "data": {
      "text/plain": [
       "(0.6807817589576547, 0.6807817589576547, 0.6807817589576547, None)"
      ]
     },
     "metadata": {},
     "output_type": "display_data"
    }
   ],
   "source": [
    "pred = vqc.predict(te_audio_image)\n",
    "from sklearn.metrics import precision_recall_fscore_support\n",
    "precision_recall_fscore_support(np.array(test['y']), pred,average='micro')"
   ]
  },
  {
   "cell_type": "code",
   "execution_count": null,
   "metadata": {},
   "outputs": [
    {
     "name": "stdout",
     "output_type": "stream",
     "text": [
      "Precision: 0.6783625730994152 Recall 0.7295597484276729 F1: 0.7030303030303029\n"
     ]
    }
   ],
   "source": [
    "\n",
    "from sklearn.metrics import precision_score, recall_score, f1_score\n",
    "print(\"Precision:\",precision_score(np.array(test['y']), pred),\"Recall\",recall_score(np.array(test['y']), pred),\"F1:\",f1_score(np.array(test['y']), pred))"
   ]
  }
 ],
 "metadata": {
  "kernelspec": {
   "display_name": "base",
   "language": "python",
   "name": "python3"
  },
  "language_info": {
   "codemirror_mode": {
    "name": "ipython",
    "version": 3
   },
   "file_extension": ".py",
   "mimetype": "text/x-python",
   "name": "python",
   "nbconvert_exporter": "python",
   "pygments_lexer": "ipython3",
   "version": "3.11.4"
  }
 },
 "nbformat": 4,
 "nbformat_minor": 2
}
