{
 "cells": [
  {
   "cell_type": "code",
   "execution_count": null,
   "metadata": {},
   "outputs": [],
   "source": [
    "non_hate_videos=\"\"\n",
    "frames_folder=\"\"\n",
    "results_folder=\"\""
   ]
  },
  {
   "cell_type": "code",
   "execution_count": null,
   "metadata": {},
   "outputs": [],
   "source": [
    "import os\n",
    "video_folder = non_hate_videos"
   ]
  },
  {
   "cell_type": "code",
   "execution_count": null,
   "metadata": {},
   "outputs": [],
   "source": [
    "import cv2\n",
    "import os\n",
    "\n",
    "\n",
    "\n",
    "# extraction of frames using cv2\n",
    "def extract_frames_from_video(video_path, output_folder, num_frames=20):\n",
    "    cap = cv2.VideoCapture(video_path)\n",
    "    count = 0\n",
    "    while cap.isOpened() and count < num_frames:\n",
    "        ret, frame = cap.read()\n",
    "        if not ret:\n",
    "            break\n",
    "        frame_path = os.path.join(output_folder, f\"{os.path.basename(video_path)}_frame_{count}.jpg\")\n",
    "        cv2.imwrite(frame_path, frame)\n",
    "        count += 1\n",
    "    cap.release()\n"
   ]
  },
  {
   "cell_type": "code",
   "execution_count": null,
   "metadata": {},
   "outputs": [],
   "source": [
    "\n",
    "if not os.path.exists(frames_folder):\n",
    "    os.makedirs(frames_folder)\n",
    "    \n",
    "for video_file in os.listdir(video_folder):\n",
    "    if video_file.endswith(\".mp4\"):  # Adjust file extension if needed\n",
    "        video_path = os.path.join(video_folder, video_file)\n",
    "        extract_frames_from_video(video_path, frames_folder)"
   ]
  },
  {
   "cell_type": "code",
   "execution_count": null,
   "metadata": {},
   "outputs": [],
   "source": [
    "yolo_model_file_path=''"
   ]
  },
  {
   "cell_type": "code",
   "execution_count": null,
   "metadata": {},
   "outputs": [],
   "source": [
    "from imageai.Detection import ObjectDetection\n",
    "import json\n",
    "import os\n",
    "\n",
    "# Initialize the object detector\n",
    "detector = ObjectDetection()\n",
    "detector.setModelTypeAsYOLOv3()\n",
    "detector.setModelPath(yolo_model_file_path)  # Path to the YOLOv3 model file\n",
    "detector.loadModel()\n",
    "\n",
    "def detect_objects_in_frame(image_path):\n",
    "    # Define a temporary path for output image\n",
    "    temp_output_path = \"temp_output.jpg\"\n",
    "    detections = detector.detectObjectsFromImage(\n",
    "        input_image=image_path, \n",
    "        output_image_path=temp_output_path\n",
    "    )\n",
    "    return detections\n",
    "\n",
    "def process_frames(frames_folder):\n",
    "    # Initialize a dictionary to hold aggregated results\n",
    "    aggregated_results = {}\n",
    "\n",
    "    for frame_file in os.listdir(frames_folder):\n",
    "        if frame_file.endswith(\".jpg\"):\n",
    "            frame_path = os.path.join(frames_folder, frame_file)\n",
    "            detections = detect_objects_in_frame(frame_path)\n",
    "            aggregated_results[frame_file] = detections\n",
    "\n",
    "    return aggregated_results\n",
    "\n",
    "\n",
    "\n",
    "# Process frames and get aggregated results\n",
    "results = process_frames(frames_folder)\n",
    "\n",
    "# Save aggregated results to a single JSON file\n",
    "results_file =results_folder+'/'+'file.json'\n",
    "with open(results_file, 'w') as f:\n",
    "    json.dump(results, f, indent=4)\n",
    "\n",
    "print(f\"Results saved to {results_file}\")"
   ]
  }
 ],
 "metadata": {
  "language_info": {
   "name": "python"
  }
 },
 "nbformat": 4,
 "nbformat_minor": 2
}
