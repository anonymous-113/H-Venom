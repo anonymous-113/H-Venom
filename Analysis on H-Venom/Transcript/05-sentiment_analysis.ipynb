{
 "cells": [
  {
   "cell_type": "code",
   "execution_count": null,
   "metadata": {},
   "outputs": [],
   "source": [
    "import assemblyai as aai\n",
    "import os\n",
    "import json\n",
    "\n",
    "\n"
   ]
  },
  {
   "cell_type": "code",
   "execution_count": null,
   "metadata": {},
   "outputs": [],
   "source": [
    "aai.settings.api_key = API_KEY\n",
    "audio_dir=''\n",
    "config = aai.TranscriptionConfig(sentiment_analysis=True)\n",
    "results = {}\n",
    "json_file=''"
   ]
  },
  {
   "cell_type": "code",
   "execution_count": null,
   "metadata": {},
   "outputs": [],
   "source": [
    "\n",
    "# Iterate over all audio files in the directory\n",
    "for audio_file in os.listdir(audio_dir_n):\n",
    "    if audio_file.endswith('.mp3') or audio_file.endswith('.wav'):  # Adjust file extensions as needed\n",
    "        # audio_url = os.path.join(audio_dir, audio_file)\n",
    "        audio_url=audio_dir_n+'/'+audio_file\n",
    "        \n",
    "        # Transcribe audio file\n",
    "        try:\n",
    "            transcript = aai.Transcriber().transcribe(audio_url, config)\n",
    "            \n",
    "            # Check if sentiment analysis data is available\n",
    "            if transcript and transcript.sentiment_analysis:\n",
    "                file_results = []\n",
    "                for sentiment_result in transcript.sentiment_analysis:\n",
    "                    file_results.append({\n",
    "                        \"text\": sentiment_result.text,\n",
    "                        \"sentiment\": sentiment_result.sentiment,  # POSITIVE, NEUTRAL, or NEGATIVE\n",
    "                        \"confidence\": sentiment_result.confidence,\n",
    "                        \"start\": sentiment_result.start,\n",
    "                        \"end\": sentiment_result.end\n",
    "                    })\n",
    "                \n",
    "                results[audio_file] = file_results\n",
    "            else:\n",
    "                print(f\"No sentiment analysis data available for {audio_file}.\")\n",
    "                results[audio_file] = {\"error\": \"No sentiment analysis data available\"}\n",
    "\n",
    "        except Exception as e:\n",
    "            print(f\"Error processing {audio_file}: {e}\")\n",
    "            results[audio_file] = {\"error\": str(e)}\n",
    "\n",
    "# Save all results to a JSON file\n",
    "with open(json_file, 'w') as f:\n",
    "    json.dump(results, f, indent=4)"
   ]
  },
  {
   "cell_type": "code",
   "execution_count": null,
   "metadata": {},
   "outputs": [],
   "source": [
    "import pandas as pd"
   ]
  },
  {
   "cell_type": "code",
   "execution_count": null,
   "metadata": {},
   "outputs": [],
   "source": [
    "df=pd.read_json(json_file)\n",
    "n=0\n",
    "p=0\n",
    "na=0"
   ]
  },
  {
   "cell_type": "code",
   "execution_count": null,
   "metadata": {},
   "outputs": [],
   "source": [
    "for i in df[0]:\n",
    "    if (i=='NEGATIVE'):\n",
    "        n=n+1;\n",
    "    elif (i=='POSITIVE'):\n",
    "        p=p+1\n",
    "    else:\n",
    "        na=na+1"
   ]
  },
  {
   "cell_type": "code",
   "execution_count": null,
   "metadata": {},
   "outputs": [],
   "source": [
    "import matplotlib.pyplot as plt\n",
    "import numpy as np\n",
    "\n",
    "# Data for Non-hate and Hate videos\n",
    "sentiments = ['Negative', 'Neutral', 'Positive']\n",
    "non_hate_values = [, , ]\n",
    "hate_values = [, , ]\n",
    "\n",
    "# Calculate percentages\n",
    "def calculate_percentages(values):\n",
    "    total = sum(values)\n",
    "    return [v / total * 100 for v in values]\n",
    "\n",
    "non_hate_percentages = calculate_percentages(non_hate_values)\n",
    "hate_percentages = calculate_percentages(hate_values)\n",
    "\n",
    "# Bar width and positions\n",
    "bar_width = 0.35\n",
    "index = np.arange(len(sentiments))\n",
    "\n",
    "# Create the figure and axis\n",
    "fig, ax = plt.subplots(figsize=(12, 7))\n",
    "\n",
    "# Plotting bars for each sentiment category\n",
    "bar1 = ax.bar(index - bar_width/2, non_hate_percentages, bar_width, color='skyblue', edgecolor='black', label='Non-hate')\n",
    "bar2 = ax.bar(index + bar_width/2, hate_percentages, bar_width, color='salmon', edgecolor='black', label='Hate')\n",
    "\n",
    "# Adding labels and title\n",
    "ax.set_xlabel('Sentiment', fontsize=14)\n",
    "ax.set_ylabel('Percentage (%)', fontsize=14)\n",
    "ax.set_title('Sentiment Distribution for Hate and Non-hate Videos (Percentage)', fontsize=16)\n",
    "ax.set_xticks(index)\n",
    "ax.set_xticklabels(sentiments, fontsize=12)\n",
    "ax.legend(fontsize=12)\n",
    "\n",
    "# Adding gridlines for better readability\n",
    "ax.yaxis.grid(True, linestyle='--', alpha=0.7)\n",
    "\n",
    "# Adding value annotations on the bars\n",
    "for bar in bar1:\n",
    "    height = bar.get_height()\n",
    "    ax.annotate(f'{height:.1f}%',\n",
    "                xy=(bar.get_x() + bar.get_width() / 2, height),\n",
    "                xytext=(0, 3),  # 3 points vertical offset\n",
    "                textcoords=\"offset points\",\n",
    "                ha='center', va='bottom', fontsize=10)\n",
    "\n",
    "for bar in bar2:\n",
    "    height = bar.get_height()\n",
    "    ax.annotate(f'{height:.1f}%',\n",
    "                xy=(bar.get_x() + bar.get_width() / 2, height),\n",
    "                xytext=(0, 3),  # 3 points vertical offset\n",
    "                textcoords=\"offset points\",\n",
    "                ha='center', va='bottom', fontsize=10)\n",
    "\n",
    "# Adding a 100% reference line\n",
    "ax.axhline(100, color='black', linestyle='--', linewidth=1.5, label='100%')\n",
    "\n",
    "# Adding a legend for the 100% line\n",
    "ax.legend(fontsize=12, loc='upper right')\n",
    "\n",
    "# Display the plot\n",
    "plt.tight_layout()\n",
    "plt.show()\n"
   ]
  }
 ],
 "metadata": {
  "language_info": {
   "name": "python"
  }
 },
 "nbformat": 4,
 "nbformat_minor": 2
}
