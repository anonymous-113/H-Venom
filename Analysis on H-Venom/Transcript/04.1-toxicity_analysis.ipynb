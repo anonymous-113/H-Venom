{
 "cells": [
  {
   "cell_type": "code",
   "execution_count": null,
   "metadata": {},
   "outputs": [],
   "source": [
    "import pandas as pd"
   ]
  },
  {
   "cell_type": "code",
   "execution_count": null,
   "metadata": {},
   "outputs": [],
   "source": [
    "score_non_hate=pd.read_json('../toxicity_non_hate.json')"
   ]
  },
  {
   "cell_type": "code",
   "execution_count": null,
   "metadata": {},
   "outputs": [],
   "source": [
    "score_hate = pd.read_json('../toxicity_hate.json')"
   ]
  },
  {
   "cell_type": "code",
   "execution_count": null,
   "metadata": {},
   "outputs": [],
   "source": [
    "score_nh=score_non_hate[\"summaryScore_toxicity\"]\n",
    "score_h=score_hate[\"summaryScore_toxicity\"]"
   ]
  },
  {
   "cell_type": "code",
   "execution_count": null,
   "metadata": {},
   "outputs": [],
   "source": [
    "score_hate_list=list(score_h)"
   ]
  },
  {
   "cell_type": "code",
   "execution_count": null,
   "metadata": {},
   "outputs": [],
   "source": [
    "score_nonh_list=list(score_nh)\n"
   ]
  },
  {
   "cell_type": "code",
   "execution_count": null,
   "metadata": {},
   "outputs": [],
   "source": [
    "total_hate= 0\n",
    "for i in score_hate_list:\n",
    "    total_hate=total_hate+i"
   ]
  },
  {
   "cell_type": "code",
   "execution_count": null,
   "metadata": {},
   "outputs": [],
   "source": [
    "total_non_hate= 0\n",
    "for i in score_nonh_list:\n",
    "    total_non_hate=total_non_hate+i"
   ]
  },
  {
   "cell_type": "code",
   "execution_count": null,
   "metadata": {},
   "outputs": [],
   "source": [
    "avg_hate = total_hate/len(score_hate_list)\n",
    "avg_nh = total_non_hate/len(score_nonh_list)"
   ]
  },
  {
   "cell_type": "code",
   "execution_count": null,
   "metadata": {},
   "outputs": [],
   "source": [
    "import matplotlib.pyplot as plt\n",
    "aggregated_scores = {\n",
    "    'Hate': avg_hate,\n",
    "    'Non-Hate':avg_nh\n",
    "}\n",
    "\n",
    "# Categories and values\n",
    "categories = list(aggregated_scores.keys())\n",
    "values = list(aggregated_scores.values())\n",
    "\n",
    "# Bar width\n",
    "bar_width = 0.6\n",
    "index = np.arange(len(categories))\n",
    "\n",
    "# Create a figure and axis\n",
    "plt.figure(figsize=(10, 6))\n",
    "\n",
    "# Plot bars\n",
    "plt.bar(index, values, bar_width, color=['salmon', 'skyblue'], edgecolor='black')\n",
    "\n",
    "# Add titles and labels\n",
    "plt.title('Aggregated Toxicity Scores by Category', fontsize=16, fontweight='bold')\n",
    "plt.xlabel('Category', fontsize=14)\n",
    "plt.ylabel('Aggregated Toxicity Score', fontsize=14)\n",
    "plt.xticks(index, categories, fontsize=12)\n",
    "plt.grid(axis='y', linestyle='--', alpha=0.7)\n",
    "\n",
    "# Show the plot\n",
    "plt.tight_layout()\n",
    "plt.show()"
   ]
  }
 ],
 "metadata": {
  "language_info": {
   "name": "python"
  }
 },
 "nbformat": 4,
 "nbformat_minor": 2
}
