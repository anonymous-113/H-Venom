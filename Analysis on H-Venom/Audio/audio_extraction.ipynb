{
 "cells": [
  {
   "cell_type": "code",
   "execution_count": null,
   "metadata": {},
   "outputs": [],
   "source": [
    "import os\n",
    "import subprocess\n",
    "\n",
    "def extract_audio_to_mono(video_folder, output_folder):\n",
    "    if not os.path.exists(output_folder):\n",
    "        os.makedirs(output_folder)\n",
    "    \n",
    "    for filename in os.listdir(video_folder):\n",
    "        if filename.endswith(('.mp4','.wav')):\n",
    "            input_path = os.path.join(video_folder, filename)\n",
    "            output_path = os.path.join(output_folder, os.path.splitext(filename)[0] + '.wav')\n",
    "            command = [\n",
    "                'ffmpeg',\n",
    "                '-i', input_path,\n",
    "                '-ac', '1',  # Convert to mono\n",
    "                '-vn',       # Ignore video\n",
    "                output_path\n",
    "            ]\n",
    "            subprocess.run(command)\n",
    "\n",
    "# Define the paths to the input video folder and output audio folder\n",
    "video_folder = ''\n",
    "output_folder = ''\n",
    "\n",
    "# Run the function\n",
    "extract_audio_to_mono(video_folder, output_folder)\n"
   ]
  }
 ],
 "metadata": {
  "language_info": {
   "name": "python"
  }
 },
 "nbformat": 4,
 "nbformat_minor": 2
}
